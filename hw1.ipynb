{
 "cells": [
  {
   "cell_type": "code",
   "execution_count": 2,
   "id": "instructional-princeton",
   "metadata": {},
   "outputs": [
    {
     "name": "stdout",
     "output_type": "stream",
     "text": [
      "0.0026410564225690276\n",
      "0.0026410564225690276\n"
     ]
    }
   ],
   "source": [
    "# lesson 1 task 1 a)\n",
    "from math import factorial\n",
    "\n",
    "\n",
    "def combinations(n, k):\n",
    "    return int(factorial(n) / (factorial(k) * factorial(n - k)))\n",
    "\n",
    "\n",
    "print(combinations(13, 4)/combinations(52, 4))\n",
    "\n",
    "# без комбинаторики\n",
    "p = 1\n",
    "for i in range(4):\n",
    "    p *= (52/4 - i) / (52 - i)\n",
    "print(p)\n"
   ]
  },
  {
   "cell_type": "code",
   "execution_count": 3,
   "id": "activated-soccer",
   "metadata": {},
   "outputs": [
    {
     "name": "stdout",
     "output_type": "stream",
     "text": [
      "5.5406778095853724e-05\n"
     ]
    }
   ],
   "source": [
    "# lesson 1 task 1 b)\n",
    "a1 = combinations(4, 1)\n",
    "a2 = combinations(4, 2)\n",
    "a3 = combinations(4, 3)\n",
    "a4 = combinations(4, 4)\n",
    "print((a1+a2+a3+a4)/combinations(52, 4))\n"
   ]
  },
  {
   "cell_type": "code",
   "execution_count": 4,
   "id": "positive-equipment",
   "metadata": {},
   "outputs": [
    {
     "name": "stdout",
     "output_type": "stream",
     "text": [
      "120\n",
      "0.008333333333333333\n"
     ]
    }
   ],
   "source": [
    "# lesson 1 task 2\n",
    "print(combinations(10, 3))  # сочетания\n",
    "print(1/combinations(10, 3))  # вероятность\n"
   ]
  },
  {
   "cell_type": "code",
   "execution_count": 5,
   "id": "behavioral-investigation",
   "metadata": {},
   "outputs": [
    {
     "name": "stdout",
     "output_type": "stream",
     "text": [
      "0.18461538461538463\n"
     ]
    }
   ],
   "source": [
    "# lesson 1 task 3\n",
    "print(combinations(9, 3)/combinations(15, 3))\n"
   ]
  },
  {
   "cell_type": "code",
   "execution_count": 6,
   "id": "narrative-blade",
   "metadata": {},
   "outputs": [
    {
     "name": "stdout",
     "output_type": "stream",
     "text": [
      "0.00020202020202020202\n"
     ]
    }
   ],
   "source": [
    "# lesson 1 task 4\n",
    "print(combinations(2, 2)/combinations(100, 2))\n"
   ]
  }
 ],
 "metadata": {
  "kernelspec": {
   "display_name": "Python 3",
   "language": "python",
   "name": "python3"
  },
  "language_info": {
   "codemirror_mode": {
    "name": "ipython",
    "version": 3
   },
   "file_extension": ".py",
   "mimetype": "text/x-python",
   "name": "python",
   "nbconvert_exporter": "python",
   "pygments_lexer": "ipython3",
   "version": "3.9.0"
  }
 },
 "nbformat": 4,
 "nbformat_minor": 5
}
